{
 "cells": [
  {
   "cell_type": "markdown",
   "id": "95796a48-2d45-41b6-8867-aecce22e8114",
   "metadata": {},
   "source": [
    "As we move further into modernity, the trend of online payments is skyrocketing. This method offers significant advantages for buyers, such as saving time and eliminating the need to carry cash. However, with these benefits come challenges, particularly the risk of fraud associated with various payment apps. I’m trying to assess just how many fraudulent transactions might be occurring in this landscape. Understanding the extent of online payment fraud detection is crucial as we navigate these issues."
   ]
  },
  {
   "cell_type": "markdown",
   "id": "7829e78d-119c-463f-a5ee-b85638604f07",
   "metadata": {},
   "source": [
    "### Data Set Columns\n",
    "\n",
    "1. **`steps`** represents a unit of time where 1 step equals 1 hour\n",
    "2. **`type`** type of online transaction\n",
    "3. **`amount`** the amount of transaction\n",
    "4. **`nameOrig`** customer starting the transaction\n",
    "5. **`oldbalanceOrg`** account balance before sending money\n",
    "6. **`newbalanceOrg`** account balance after sending money\n",
    "7. **`nameDest`** customer receiving the transaction\n",
    "8. **`oldbalanceDest`** account balance before receiving money\n",
    "9. **`newbalanceDest`** account balance after receiving money\n",
    "10. **`isFraud`** is a fraud transaction (0: No or 1: Yes)"
   ]
  },
  {
   "cell_type": "code",
   "execution_count": 3,
   "id": "01a784fd-8082-4e00-95ca-0fdcfa7749d8",
   "metadata": {},
   "outputs": [],
   "source": [
    "# importing libraries and dataset\n",
    "\n",
    "import numpy as np \n",
    "import pandas as pd\n",
    "import matplotlib.pyplot as plt\n",
    "import seaborn as sns\n",
    "import warnings\n",
    "warnings.filterwarnings('ignore')"
   ]
  },
  {
   "cell_type": "code",
   "execution_count": 4,
   "id": "127cc1d4-402c-414b-8d98-d845ae5cba00",
   "metadata": {},
   "outputs": [],
   "source": [
    "df=pd.read_csv(\"Transactions.csv\")"
   ]
  },
  {
   "cell_type": "code",
   "execution_count": 5,
   "id": "1d0fb8fc-ee18-42bd-a7ff-e762c48756da",
   "metadata": {},
   "outputs": [
    {
     "data": {
      "text/html": [
       "<div>\n",
       "<style scoped>\n",
       "    .dataframe tbody tr th:only-of-type {\n",
       "        vertical-align: middle;\n",
       "    }\n",
       "\n",
       "    .dataframe tbody tr th {\n",
       "        vertical-align: top;\n",
       "    }\n",
       "\n",
       "    .dataframe thead th {\n",
       "        text-align: right;\n",
       "    }\n",
       "</style>\n",
       "<table border=\"1\" class=\"dataframe\">\n",
       "  <thead>\n",
       "    <tr style=\"text-align: right;\">\n",
       "      <th></th>\n",
       "      <th>step</th>\n",
       "      <th>type</th>\n",
       "      <th>amount</th>\n",
       "      <th>nameOrig</th>\n",
       "      <th>oldbalanceOrg</th>\n",
       "      <th>newbalanceOrig</th>\n",
       "      <th>nameDest</th>\n",
       "      <th>oldbalanceDest</th>\n",
       "      <th>newbalanceDest</th>\n",
       "      <th>isFraud</th>\n",
       "      <th>isFlaggedFraud</th>\n",
       "    </tr>\n",
       "  </thead>\n",
       "  <tbody>\n",
       "    <tr>\n",
       "      <th>0</th>\n",
       "      <td>1</td>\n",
       "      <td>PAYMENT</td>\n",
       "      <td>9839.64</td>\n",
       "      <td>C1231006815</td>\n",
       "      <td>170136.0</td>\n",
       "      <td>160296.36</td>\n",
       "      <td>M1979787155</td>\n",
       "      <td>0.0</td>\n",
       "      <td>0.0</td>\n",
       "      <td>0</td>\n",
       "      <td>0</td>\n",
       "    </tr>\n",
       "    <tr>\n",
       "      <th>1</th>\n",
       "      <td>1</td>\n",
       "      <td>PAYMENT</td>\n",
       "      <td>1864.28</td>\n",
       "      <td>C1666544295</td>\n",
       "      <td>21249.0</td>\n",
       "      <td>19384.72</td>\n",
       "      <td>M2044282225</td>\n",
       "      <td>0.0</td>\n",
       "      <td>0.0</td>\n",
       "      <td>0</td>\n",
       "      <td>0</td>\n",
       "    </tr>\n",
       "    <tr>\n",
       "      <th>2</th>\n",
       "      <td>1</td>\n",
       "      <td>TRANSFER</td>\n",
       "      <td>181.00</td>\n",
       "      <td>C1305486145</td>\n",
       "      <td>181.0</td>\n",
       "      <td>0.00</td>\n",
       "      <td>C553264065</td>\n",
       "      <td>0.0</td>\n",
       "      <td>0.0</td>\n",
       "      <td>1</td>\n",
       "      <td>0</td>\n",
       "    </tr>\n",
       "    <tr>\n",
       "      <th>3</th>\n",
       "      <td>1</td>\n",
       "      <td>CASH_OUT</td>\n",
       "      <td>181.00</td>\n",
       "      <td>C840083671</td>\n",
       "      <td>181.0</td>\n",
       "      <td>0.00</td>\n",
       "      <td>C38997010</td>\n",
       "      <td>21182.0</td>\n",
       "      <td>0.0</td>\n",
       "      <td>1</td>\n",
       "      <td>0</td>\n",
       "    </tr>\n",
       "    <tr>\n",
       "      <th>4</th>\n",
       "      <td>1</td>\n",
       "      <td>PAYMENT</td>\n",
       "      <td>11668.14</td>\n",
       "      <td>C2048537720</td>\n",
       "      <td>41554.0</td>\n",
       "      <td>29885.86</td>\n",
       "      <td>M1230701703</td>\n",
       "      <td>0.0</td>\n",
       "      <td>0.0</td>\n",
       "      <td>0</td>\n",
       "      <td>0</td>\n",
       "    </tr>\n",
       "  </tbody>\n",
       "</table>\n",
       "</div>"
      ],
      "text/plain": [
       "   step      type    amount     nameOrig  oldbalanceOrg  newbalanceOrig  \\\n",
       "0     1   PAYMENT   9839.64  C1231006815       170136.0       160296.36   \n",
       "1     1   PAYMENT   1864.28  C1666544295        21249.0        19384.72   \n",
       "2     1  TRANSFER    181.00  C1305486145          181.0            0.00   \n",
       "3     1  CASH_OUT    181.00   C840083671          181.0            0.00   \n",
       "4     1   PAYMENT  11668.14  C2048537720        41554.0        29885.86   \n",
       "\n",
       "      nameDest  oldbalanceDest  newbalanceDest  isFraud  isFlaggedFraud  \n",
       "0  M1979787155             0.0             0.0        0               0  \n",
       "1  M2044282225             0.0             0.0        0               0  \n",
       "2   C553264065             0.0             0.0        1               0  \n",
       "3    C38997010         21182.0             0.0        1               0  \n",
       "4  M1230701703             0.0             0.0        0               0  "
      ]
     },
     "execution_count": 5,
     "metadata": {},
     "output_type": "execute_result"
    }
   ],
   "source": [
    "df.head()"
   ]
  },
  {
   "cell_type": "code",
   "execution_count": 6,
   "id": "5c3d4c72-413d-4350-84d3-2d296157638e",
   "metadata": {},
   "outputs": [],
   "source": [
    "# general information about the dataset"
   ]
  },
  {
   "cell_type": "code",
   "execution_count": 7,
   "id": "bb98028e-3c04-409b-8def-d1bee3d61ae0",
   "metadata": {},
   "outputs": [
    {
     "data": {
      "text/plain": [
       "(499999, 11)"
      ]
     },
     "execution_count": 7,
     "metadata": {},
     "output_type": "execute_result"
    }
   ],
   "source": [
    "df.shape"
   ]
  },
  {
   "cell_type": "code",
   "execution_count": 8,
   "id": "14b39f50-47d1-4e17-964f-ca67100eed3e",
   "metadata": {},
   "outputs": [
    {
     "name": "stdout",
     "output_type": "stream",
     "text": [
      "<class 'pandas.core.frame.DataFrame'>\n",
      "RangeIndex: 499999 entries, 0 to 499998\n",
      "Data columns (total 11 columns):\n",
      " #   Column          Non-Null Count   Dtype  \n",
      "---  ------          --------------   -----  \n",
      " 0   step            499999 non-null  int64  \n",
      " 1   type            499999 non-null  object \n",
      " 2   amount          499999 non-null  float64\n",
      " 3   nameOrig        499999 non-null  object \n",
      " 4   oldbalanceOrg   499999 non-null  float64\n",
      " 5   newbalanceOrig  499999 non-null  float64\n",
      " 6   nameDest        499999 non-null  object \n",
      " 7   oldbalanceDest  499999 non-null  float64\n",
      " 8   newbalanceDest  499999 non-null  float64\n",
      " 9   isFraud         499999 non-null  int64  \n",
      " 10  isFlaggedFraud  499999 non-null  int64  \n",
      "dtypes: float64(5), int64(3), object(3)\n",
      "memory usage: 42.0+ MB\n"
     ]
    }
   ],
   "source": [
    "df.info()"
   ]
  },
  {
   "cell_type": "code",
   "execution_count": 9,
   "id": "c4b97b3e-ef03-4b28-a622-927a599ec98b",
   "metadata": {},
   "outputs": [
    {
     "data": {
      "text/html": [
       "<div>\n",
       "<style scoped>\n",
       "    .dataframe tbody tr th:only-of-type {\n",
       "        vertical-align: middle;\n",
       "    }\n",
       "\n",
       "    .dataframe tbody tr th {\n",
       "        vertical-align: top;\n",
       "    }\n",
       "\n",
       "    .dataframe thead th {\n",
       "        text-align: right;\n",
       "    }\n",
       "</style>\n",
       "<table border=\"1\" class=\"dataframe\">\n",
       "  <thead>\n",
       "    <tr style=\"text-align: right;\">\n",
       "      <th></th>\n",
       "      <th>step</th>\n",
       "      <th>amount</th>\n",
       "      <th>oldbalanceOrg</th>\n",
       "      <th>newbalanceOrig</th>\n",
       "      <th>oldbalanceDest</th>\n",
       "      <th>newbalanceDest</th>\n",
       "      <th>isFraud</th>\n",
       "      <th>isFlaggedFraud</th>\n",
       "    </tr>\n",
       "  </thead>\n",
       "  <tbody>\n",
       "    <tr>\n",
       "      <th>count</th>\n",
       "      <td>499999.000000</td>\n",
       "      <td>4.999990e+05</td>\n",
       "      <td>4.999990e+05</td>\n",
       "      <td>4.999990e+05</td>\n",
       "      <td>4.999990e+05</td>\n",
       "      <td>4.999990e+05</td>\n",
       "      <td>499999.000000</td>\n",
       "      <td>499999.0</td>\n",
       "    </tr>\n",
       "    <tr>\n",
       "      <th>mean</th>\n",
       "      <td>13.906716</td>\n",
       "      <td>1.663939e+05</td>\n",
       "      <td>9.116946e+05</td>\n",
       "      <td>9.314275e+05</td>\n",
       "      <td>9.827810e+05</td>\n",
       "      <td>1.162675e+06</td>\n",
       "      <td>0.000466</td>\n",
       "      <td>0.0</td>\n",
       "    </tr>\n",
       "    <tr>\n",
       "      <th>std</th>\n",
       "      <td>3.731884</td>\n",
       "      <td>2.725843e+05</td>\n",
       "      <td>3.016901e+06</td>\n",
       "      <td>3.054012e+06</td>\n",
       "      <td>2.336458e+06</td>\n",
       "      <td>2.510645e+06</td>\n",
       "      <td>0.021582</td>\n",
       "      <td>0.0</td>\n",
       "    </tr>\n",
       "    <tr>\n",
       "      <th>min</th>\n",
       "      <td>1.000000</td>\n",
       "      <td>1.000000e-01</td>\n",
       "      <td>0.000000e+00</td>\n",
       "      <td>0.000000e+00</td>\n",
       "      <td>0.000000e+00</td>\n",
       "      <td>0.000000e+00</td>\n",
       "      <td>0.000000</td>\n",
       "      <td>0.0</td>\n",
       "    </tr>\n",
       "    <tr>\n",
       "      <th>25%</th>\n",
       "      <td>11.000000</td>\n",
       "      <td>1.335028e+04</td>\n",
       "      <td>0.000000e+00</td>\n",
       "      <td>0.000000e+00</td>\n",
       "      <td>0.000000e+00</td>\n",
       "      <td>0.000000e+00</td>\n",
       "      <td>0.000000</td>\n",
       "      <td>0.0</td>\n",
       "    </tr>\n",
       "    <tr>\n",
       "      <th>50%</th>\n",
       "      <td>14.000000</td>\n",
       "      <td>8.137587e+04</td>\n",
       "      <td>1.856900e+04</td>\n",
       "      <td>0.000000e+00</td>\n",
       "      <td>1.192721e+05</td>\n",
       "      <td>2.221441e+05</td>\n",
       "      <td>0.000000</td>\n",
       "      <td>0.0</td>\n",
       "    </tr>\n",
       "    <tr>\n",
       "      <th>75%</th>\n",
       "      <td>17.000000</td>\n",
       "      <td>2.226452e+05</td>\n",
       "      <td>1.702941e+05</td>\n",
       "      <td>2.101733e+05</td>\n",
       "      <td>8.962290e+05</td>\n",
       "      <td>1.201403e+06</td>\n",
       "      <td>0.000000</td>\n",
       "      <td>0.0</td>\n",
       "    </tr>\n",
       "    <tr>\n",
       "      <th>max</th>\n",
       "      <td>20.000000</td>\n",
       "      <td>1.000000e+07</td>\n",
       "      <td>3.890000e+07</td>\n",
       "      <td>3.890000e+07</td>\n",
       "      <td>4.150000e+07</td>\n",
       "      <td>4.150000e+07</td>\n",
       "      <td>1.000000</td>\n",
       "      <td>0.0</td>\n",
       "    </tr>\n",
       "  </tbody>\n",
       "</table>\n",
       "</div>"
      ],
      "text/plain": [
       "                step        amount  oldbalanceOrg  newbalanceOrig  \\\n",
       "count  499999.000000  4.999990e+05   4.999990e+05    4.999990e+05   \n",
       "mean       13.906716  1.663939e+05   9.116946e+05    9.314275e+05   \n",
       "std         3.731884  2.725843e+05   3.016901e+06    3.054012e+06   \n",
       "min         1.000000  1.000000e-01   0.000000e+00    0.000000e+00   \n",
       "25%        11.000000  1.335028e+04   0.000000e+00    0.000000e+00   \n",
       "50%        14.000000  8.137587e+04   1.856900e+04    0.000000e+00   \n",
       "75%        17.000000  2.226452e+05   1.702941e+05    2.101733e+05   \n",
       "max        20.000000  1.000000e+07   3.890000e+07    3.890000e+07   \n",
       "\n",
       "       oldbalanceDest  newbalanceDest        isFraud  isFlaggedFraud  \n",
       "count    4.999990e+05    4.999990e+05  499999.000000        499999.0  \n",
       "mean     9.827810e+05    1.162675e+06       0.000466             0.0  \n",
       "std      2.336458e+06    2.510645e+06       0.021582             0.0  \n",
       "min      0.000000e+00    0.000000e+00       0.000000             0.0  \n",
       "25%      0.000000e+00    0.000000e+00       0.000000             0.0  \n",
       "50%      1.192721e+05    2.221441e+05       0.000000             0.0  \n",
       "75%      8.962290e+05    1.201403e+06       0.000000             0.0  \n",
       "max      4.150000e+07    4.150000e+07       1.000000             0.0  "
      ]
     },
     "execution_count": 9,
     "metadata": {},
     "output_type": "execute_result"
    }
   ],
   "source": [
    "df.describe()"
   ]
  },
  {
   "cell_type": "code",
   "execution_count": 10,
   "id": "8d8eca8f-f526-4c1d-9b68-e0ddce5a7d47",
   "metadata": {},
   "outputs": [
    {
     "data": {
      "text/plain": [
       "step              0\n",
       "type              0\n",
       "amount            0\n",
       "nameOrig          0\n",
       "oldbalanceOrg     0\n",
       "newbalanceOrig    0\n",
       "nameDest          0\n",
       "oldbalanceDest    0\n",
       "newbalanceDest    0\n",
       "isFraud           0\n",
       "isFlaggedFraud    0\n",
       "dtype: int64"
      ]
     },
     "execution_count": 10,
     "metadata": {},
     "output_type": "execute_result"
    }
   ],
   "source": [
    "df.isnull().sum()"
   ]
  },
  {
   "cell_type": "code",
   "execution_count": 11,
   "id": "f296ea68-96e9-4c85-96e2-c1daa09c2d58",
   "metadata": {},
   "outputs": [
    {
     "data": {
      "text/plain": [
       "<Axes: xlabel='step', ylabel='Density'>"
      ]
     },
     "execution_count": 11,
     "metadata": {},
     "output_type": "execute_result"
    },
    {
     "data": {
      "image/png": "[encoded data removed]",
      "text/plain": [
       "<Figure size 1500x600 with 1 Axes>"
      ]
     },
     "metadata": {},
     "output_type": "display_data"
    }
   ],
   "source": [
    "plt.figure(figsize=(15, 6))\n",
    "sns.distplot(df['step'], bins=35)"
   ]
  },
  {
   "cell_type": "code",
   "execution_count": 12,
   "id": "fe78c221-00d2-49ae-9123-e30ab45c7a96",
   "metadata": {},
   "outputs": [
    {
     "data": {
      "text/plain": [
       "float64    5\n",
       "int64      3\n",
       "object     3\n",
       "Name: count, dtype: int64"
      ]
     },
     "execution_count": 12,
     "metadata": {},
     "output_type": "execute_result"
    }
   ],
   "source": [
    "#different data type of columns\n",
    "df.dtypes.value_counts()"
   ]
  },
  {
   "cell_type": "code",
   "execution_count": 13,
   "id": "8e7bc36c-4caa-4984-927e-bc6edcff5789",
   "metadata": {},
   "outputs": [
    {
     "data": {
      "text/plain": [
       "type\n",
       "CASH_OUT    182316\n",
       "PAYMENT     164032\n",
       "CASH_IN     109319\n",
       "TRANSFER     40729\n",
       "DEBIT         3603\n",
       "Name: count, dtype: int64"
      ]
     },
     "execution_count": 13,
     "metadata": {},
     "output_type": "execute_result"
    }
   ],
   "source": [
    "# different type of transactions and its count\n",
    "df['type'].value_counts()"
   ]
  },
  {
   "cell_type": "code",
   "execution_count": 14,
   "id": "633d2e61-0502-49cf-b8c7-5472867a1fcb",
   "metadata": {},
   "outputs": [
    {
     "data": {
      "image/png": "[encoded data removed]",
      "text/plain": [
       "<Figure size 1000x500 with 1 Axes>"
      ]
     },
     "metadata": {},
     "output_type": "display_data"
    }
   ],
   "source": [
    "plt.figure(figsize=(10,5))\n",
    "sns.countplot(data=df, x=\"type\", width= 0.6, palette='dark')\n",
    "plt.xlabel('Type')\n",
    "plt.show()"
   ]
  },
  {
   "cell_type": "code",
   "execution_count": 15,
   "id": "2477b925-3d94-47f9-9434-7f840c6aa5b0",
   "metadata": {},
   "outputs": [
    {
     "data": {
      "text/plain": [
       "(0.1, 10000000.0)"
      ]
     },
     "execution_count": 15,
     "metadata": {},
     "output_type": "execute_result"
    }
   ],
   "source": [
    "#min and maximum amount of transaction\n",
    "min(df['amount']), max(df['amount'])"
   ]
  },
  {
   "cell_type": "code",
   "execution_count": 16,
   "id": "b9e1e574-68b3-4359-87fd-cb50221517b7",
   "metadata": {},
   "outputs": [
    {
     "data": {
      "text/plain": [
       "isFraud\n",
       "0    499766\n",
       "1       233\n",
       "Name: count, dtype: int64"
      ]
     },
     "execution_count": 16,
     "metadata": {},
     "output_type": "execute_result"
    }
   ],
   "source": [
    "df['isFraud'].value_counts()"
   ]
  },
  {
   "cell_type": "markdown",
   "id": "8009605c-fc91-4607-9a03-028d8b4f7e55",
   "metadata": {},
   "source": [
    "### Exploratory Data Analysis"
   ]
  },
  {
   "cell_type": "code",
   "execution_count": 18,
   "id": "1dfd13ec-5eb5-4a27-8e67-282bb072b287",
   "metadata": {},
   "outputs": [
    {
     "name": "stdout",
     "output_type": "stream",
     "text": [
      "Percentage of fraud is 0.046600093200186404 %\n"
     ]
    }
   ],
   "source": [
    "# percentage of fraud transactions\n",
    "\n",
    "total_fraud_transaction= (df['isFraud'].sum()/len(df))*100\n",
    "print(f\"Percentage of fraud is {total_fraud_transaction} %\")"
   ]
  },
  {
   "cell_type": "code",
   "execution_count": 19,
   "id": "47f2976d-6bfd-4298-b07a-ddaef010b257",
   "metadata": {},
   "outputs": [
    {
     "name": "stdout",
     "output_type": "stream",
     "text": [
      "Total number of transactions:  499999\n",
      "Number of fraud transactions:  233\n",
      "Numbe of non fraud transactions:  499766\n",
      "Average transaction amount:  166393.87893715792\n"
     ]
    }
   ],
   "source": [
    "# transaction statistics\n",
    "\n",
    "fraud_counts = df['isFraud'].value_counts()\n",
    "total_fraud = fraud_counts.get(1, 0)  # Fraud transactions\n",
    "total_non_fraud = fraud_counts.get(0, 0)  #Not fraud transactions\n",
    "avg_transaction_amount= df['amount'].mean()\n",
    "\n",
    "print(\"Total number of transactions: \",df.shape[0])\n",
    "print(\"Number of fraud transactions: \", total_fraud)\n",
    "print(\"Numbe of non fraud transactions: \", total_non_fraud)\n",
    "print(\"Average transaction amount: \", avg_transaction_amount)"
   ]
  },
  {
   "cell_type": "code",
   "execution_count": 20,
   "id": "106c54e5-6ad6-4d00-b856-764682b57060",
   "metadata": {},
   "outputs": [
    {
     "name": "stdout",
     "output_type": "stream",
     "text": [
      "      nameOrig  transaction_count\n",
      "0   C189326840                  2\n",
      "1   C779875094                  2\n",
      "2   C260230637                  2\n",
      "3   C262409479                  2\n",
      "4   C375315317                  2\n",
      "5   C675934000                  2\n",
      "6  C1250194175                  2\n",
      "7    C44568807                  2\n",
      "8  C1171525077                  2\n",
      "9  C1999539787                  2\n"
     ]
    }
   ],
   "source": [
    "# Most active users\n",
    "\n",
    "most_active_users = df['nameOrig'].value_counts().reset_index()\n",
    "most_active_users.columns = ['nameOrig', 'transaction_count']\n",
    "top_active_users = most_active_users.head(10) \n",
    "print(top_active_users)"
   ]
  },
  {
   "cell_type": "code",
   "execution_count": 21,
   "id": "d288c9b4-82a4-4ed6-b443-be9f6d8cab92",
   "metadata": {},
   "outputs": [
    {
     "name": "stdout",
     "output_type": "stream",
     "text": [
      "     recipient  fraud_count\n",
      "0   C185805228            2\n",
      "1   C410033330            2\n",
      "2   C200064275            2\n",
      "3   C553264065            1\n",
      "4  C1966002811            1\n",
      "5  C2041291172            1\n",
      "6  C1662761228            1\n",
      "7  C2009346140            1\n",
      "8  C1562904239            1\n",
      "9  C1755380031            1\n"
     ]
    }
   ],
   "source": [
    "# Most common recipients for fraudulent transactions\n",
    "\n",
    "fraudulent_transactions = df[df['isFraud'] == 1]\n",
    "common_recipients = fraudulent_transactions['nameDest'].value_counts().reset_index()\n",
    "common_recipients.columns = ['recipient', 'fraud_count']\n",
    "top_common_recipients = common_recipients.head(10)  # Change the number as needed\n",
    "print(top_common_recipients)\n"
   ]
  },
  {
   "cell_type": "code",
   "execution_count": 22,
   "id": "42d35acc-93e6-4400-ad84-86b829e003b9",
   "metadata": {},
   "outputs": [
    {
     "name": "stdout",
     "output_type": "stream",
     "text": [
      "          Non-Fraudulent  Fraudulent\n",
      "type                                \n",
      "CASH_IN           109319           0\n",
      "CASH_OUT          182195         121\n",
      "DEBIT               3603           0\n",
      "PAYMENT           164032           0\n",
      "TRANSFER           40617         112\n"
     ]
    }
   ],
   "source": [
    "# Distribution of transaction types among fraudulent and non-fraudulent transactions\n",
    "\n",
    "transaction_distribution = df.groupby(['type', 'isFraud']).size().unstack(fill_value=0)\n",
    "transaction_distribution.columns = ['Non-Fraudulent', 'Fraudulent']\n",
    "print(transaction_distribution)"
   ]
  },
  {
   "cell_type": "code",
   "execution_count": 23,
   "id": "b0936854-837d-4402-ac36-1ba88b7811a3",
   "metadata": {},
   "outputs": [
    {
     "data": {
      "image/png": "[encoded data removed]",
      "text/plain": [
       "<Figure size 640x480 with 1 Axes>"
      ]
     },
     "metadata": {},
     "output_type": "display_data"
    }
   ],
   "source": [
    "transaction_distribution.plot(kind='bar', stacked=True)\n",
    "plt.title('Distribution of Transaction Types by Fraud Status')\n",
    "plt.xlabel('Transaction Type')\n",
    "plt.ylabel('Count')\n",
    "plt.xticks(rotation=0)\n",
    "plt.legend(title='Fraud Status')\n",
    "plt.show()"
   ]
  },
  {
   "cell_type": "markdown",
   "id": "fa506ece-bbbf-4a3a-a50c-a5e40e33b47c",
   "metadata": {},
   "source": [
    "**Observation** The amount of fraudlent transactions are so low in comparison to non fraudlent transaction, that its presence in the bar chart almost looks negligible"
   ]
  },
  {
   "cell_type": "code",
   "execution_count": 25,
   "id": "a57d633f-63cb-437a-8567-38056b166418",
   "metadata": {},
   "outputs": [
    {
     "name": "stdout",
     "output_type": "stream",
     "text": [
      "Correlation between balance change and fraud occurrences: -0.14\n"
     ]
    }
   ],
   "source": [
    "# Correlation between balance changes and fraud occurrences\n",
    "\n",
    "df['balance_change'] = df['newbalanceOrig'] - df['oldbalanceOrg']\n",
    "correlation = df[['balance_change', 'isFraud']].corr().iloc[0, 1]\n",
    "print(f'Correlation between balance change and fraud occurrences: {correlation:.2f}')"
   ]
  },
  {
   "cell_type": "markdown",
   "id": "92f41829-dcdc-434f-a5aa-bfa3705c540a",
   "metadata": {},
   "source": [
    "**Observation** `Moderate Strength` correlation coefficient, meaning there is some relationship between balance changes and fraud occurrences, but it's not particularly pronounced."
   ]
  },
  {
   "cell_type": "code",
   "execution_count": 27,
   "id": "ee1575e3-d18b-477f-830b-b51af6cb6138",
   "metadata": {},
   "outputs": [
    {
     "name": "stdout",
     "output_type": "stream",
     "text": [
      "           nameOrig     nameDest  transaction_count  total_amount\n",
      "331709   C351297720   C766681183                  1   10000000.00\n",
      "271229  C2050703310  C1622860679                  1   10000000.00\n",
      "348522   C416779475   C380259496                  1   10000000.00\n",
      "426461     C7162498   C945327594                  1   10000000.00\n",
      "471449   C890128330  C1192472312                  1    6419835.27\n",
      "92548    C135832352  C2009346140                  1    6188514.81\n",
      "418668   C686187434  C1562904239                  1    6188514.81\n",
      "263783  C2022065686   C460989529                  1    6072832.27\n",
      "316720   C293394374  C1856036778                  1    5677662.29\n",
      "151968  C1588880909  C1570256460                  1    5460002.91\n",
      "413643   C666654362  C1726301214                  1    5460002.91\n",
      "389879   C574755786  C1737918957                  1    5082871.40\n",
      "383633   C551242513    C66893623                  1    5077695.81\n",
      "395788    C59768119  C1387210478                  1    4923413.80\n",
      "361853   C468223823  C1597673582                  1    4884302.73\n",
      "347542   C413032508   C780187080                  1    4838196.22\n",
      "365553    C48258479  C1786712116                  1    4817546.55\n",
      "489264   C958622905   C964153447                  1    4766190.59\n",
      "107162  C1415045789  C1552859894                  1    4764218.76\n",
      "477013   C911574125  C1579386738                  1    4745534.44\n",
      "4507    C1017653240  C1297685781                  1    4626419.46\n",
      "253595  C1983002423    C44870833                  1    4435382.87\n",
      "304105   C245033028   C704024200                  1    4391142.82\n",
      "430869   C733104770   C909295153                  1    4359014.49\n",
      "105485  C1408367935  C2028021349                  1    4307107.47\n",
      "100297  C1388457456   C878511366                  1    4293423.61\n",
      "330941   C348374910   C933059493                  1    4267247.51\n",
      "296477   C215820497  C1247600089                  1    4247849.58\n",
      "137795  C1533794266  C2078448324                  1    4239019.21\n",
      "260908  C2011200430  C1058202718                  1    4231698.40\n"
     ]
    }
   ],
   "source": [
    "# Pair of sender and receiver names along with top transactions \n",
    "transaction_pairs = df.groupby(['nameOrig', 'nameDest']).agg(\n",
    "    transaction_count=('amount', 'size'), \n",
    "    total_amount=('amount', 'sum')\n",
    ").reset_index()\n",
    "\n",
    "# Display the top pairs by transaction count and total amount\n",
    "top_pairs = transaction_pairs.sort_values(by='total_amount', ascending=False).head(30)\n",
    "print(top_pairs)"
   ]
  },
  {
   "cell_type": "markdown",
   "id": "93501f39-35d1-42f6-91ba-ddd034532266",
   "metadata": {},
   "source": [
    "### Feature encoding"
   ]
  },
  {
   "cell_type": "code",
   "execution_count": 29,
   "id": "f083b650-f480-4fc9-97c9-37ec75e08571",
   "metadata": {},
   "outputs": [],
   "source": [
    "df['type'].replace({'PAYMENT':0, 'CASH_IN':1, 'CASH_OUT':2, 'TRANSFER':3, 'DEBIT':4}, inplace=True)"
   ]
  },
  {
   "cell_type": "code",
   "execution_count": 30,
   "id": "94a4df8a-5561-418c-9690-e52dc1762dd5",
   "metadata": {},
   "outputs": [
    {
     "data": {
      "text/plain": [
       "type\n",
       "2    182316\n",
       "0    164032\n",
       "1    109319\n",
       "3     40729\n",
       "4      3603\n",
       "Name: count, dtype: int64"
      ]
     },
     "execution_count": 30,
     "metadata": {},
     "output_type": "execute_result"
    }
   ],
   "source": [
    "df['type'].value_counts()"
   ]
  },
  {
   "cell_type": "code",
   "execution_count": 31,
   "id": "ff5d9a36-563a-4cd3-8f1a-67fa8989f300",
   "metadata": {},
   "outputs": [],
   "source": [
    "# dropping non integer values from the dataset\n",
    "\n",
    "df.drop(['nameOrig', 'nameDest'], axis=1, inplace=True)"
   ]
  },
  {
   "cell_type": "code",
   "execution_count": 32,
   "id": "0a5c00f7-353e-4ba7-8ed9-5ccc43518f3e",
   "metadata": {},
   "outputs": [
    {
     "data": {
      "text/html": [
       "<div>\n",
       "<style scoped>\n",
       "    .dataframe tbody tr th:only-of-type {\n",
       "        vertical-align: middle;\n",
       "    }\n",
       "\n",
       "    .dataframe tbody tr th {\n",
       "        vertical-align: top;\n",
       "    }\n",
       "\n",
       "    .dataframe thead th {\n",
       "        text-align: right;\n",
       "    }\n",
       "</style>\n",
       "<table border=\"1\" class=\"dataframe\">\n",
       "  <thead>\n",
       "    <tr style=\"text-align: right;\">\n",
       "      <th></th>\n",
       "      <th>step</th>\n",
       "      <th>type</th>\n",
       "      <th>amount</th>\n",
       "      <th>oldbalanceOrg</th>\n",
       "      <th>newbalanceOrig</th>\n",
       "      <th>oldbalanceDest</th>\n",
       "      <th>newbalanceDest</th>\n",
       "      <th>isFraud</th>\n",
       "      <th>isFlaggedFraud</th>\n",
       "      <th>balance_change</th>\n",
       "    </tr>\n",
       "  </thead>\n",
       "  <tbody>\n",
       "    <tr>\n",
       "      <th>0</th>\n",
       "      <td>1</td>\n",
       "      <td>0</td>\n",
       "      <td>9839.64</td>\n",
       "      <td>170136.0</td>\n",
       "      <td>160296.36</td>\n",
       "      <td>0.0</td>\n",
       "      <td>0.0</td>\n",
       "      <td>0</td>\n",
       "      <td>0</td>\n",
       "      <td>-9839.64</td>\n",
       "    </tr>\n",
       "    <tr>\n",
       "      <th>1</th>\n",
       "      <td>1</td>\n",
       "      <td>0</td>\n",
       "      <td>1864.28</td>\n",
       "      <td>21249.0</td>\n",
       "      <td>19384.72</td>\n",
       "      <td>0.0</td>\n",
       "      <td>0.0</td>\n",
       "      <td>0</td>\n",
       "      <td>0</td>\n",
       "      <td>-1864.28</td>\n",
       "    </tr>\n",
       "    <tr>\n",
       "      <th>2</th>\n",
       "      <td>1</td>\n",
       "      <td>3</td>\n",
       "      <td>181.00</td>\n",
       "      <td>181.0</td>\n",
       "      <td>0.00</td>\n",
       "      <td>0.0</td>\n",
       "      <td>0.0</td>\n",
       "      <td>1</td>\n",
       "      <td>0</td>\n",
       "      <td>-181.00</td>\n",
       "    </tr>\n",
       "    <tr>\n",
       "      <th>3</th>\n",
       "      <td>1</td>\n",
       "      <td>2</td>\n",
       "      <td>181.00</td>\n",
       "      <td>181.0</td>\n",
       "      <td>0.00</td>\n",
       "      <td>21182.0</td>\n",
       "      <td>0.0</td>\n",
       "      <td>1</td>\n",
       "      <td>0</td>\n",
       "      <td>-181.00</td>\n",
       "    </tr>\n",
       "    <tr>\n",
       "      <th>4</th>\n",
       "      <td>1</td>\n",
       "      <td>0</td>\n",
       "      <td>11668.14</td>\n",
       "      <td>41554.0</td>\n",
       "      <td>29885.86</td>\n",
       "      <td>0.0</td>\n",
       "      <td>0.0</td>\n",
       "      <td>0</td>\n",
       "      <td>0</td>\n",
       "      <td>-11668.14</td>\n",
       "    </tr>\n",
       "  </tbody>\n",
       "</table>\n",
       "</div>"
      ],
      "text/plain": [
       "   step  type    amount  oldbalanceOrg  newbalanceOrig  oldbalanceDest  \\\n",
       "0     1     0   9839.64       170136.0       160296.36             0.0   \n",
       "1     1     0   1864.28        21249.0        19384.72             0.0   \n",
       "2     1     3    181.00          181.0            0.00             0.0   \n",
       "3     1     2    181.00          181.0            0.00         21182.0   \n",
       "4     1     0  11668.14        41554.0        29885.86             0.0   \n",
       "\n",
       "   newbalanceDest  isFraud  isFlaggedFraud  balance_change  \n",
       "0             0.0        0               0        -9839.64  \n",
       "1             0.0        0               0        -1864.28  \n",
       "2             0.0        1               0         -181.00  \n",
       "3             0.0        1               0         -181.00  \n",
       "4             0.0        0               0       -11668.14  "
      ]
     },
     "execution_count": 32,
     "metadata": {},
     "output_type": "execute_result"
    }
   ],
   "source": [
    "df.head()"
   ]
  },
  {
   "cell_type": "code",
   "execution_count": 33,
   "id": "d9b4ec00-399d-4181-ae61-8ff310945d79",
   "metadata": {},
   "outputs": [
    {
     "data": {
      "text/plain": [
       "<Axes: >"
      ]
     },
     "execution_count": 33,
     "metadata": {},
     "output_type": "execute_result"
    },
    {
     "data": {
      "image/png": "[encoded data removed]",
      "text/plain": [
       "<Figure size 1200x600 with 2 Axes>"
      ]
     },
     "metadata": {},
     "output_type": "display_data"
    }
   ],
   "source": [
    "# correlation of each numerical columns \n",
    "\n",
    "plt.figure(figsize=(12, 6))\n",
    "sns.heatmap(df.corr(), cmap='BrBG', fmt='.2f', linewidths=2, annot=True)"
   ]
  },
  {
   "cell_type": "code",
   "execution_count": 34,
   "id": "88f0cd12-fda7-405a-a647-e0019409444e",
   "metadata": {},
   "outputs": [
    {
     "data": {
      "text/plain": [
       "(499999, 10)"
      ]
     },
     "execution_count": 34,
     "metadata": {},
     "output_type": "execute_result"
    }
   ],
   "source": [
    "df.shape"
   ]
  },
  {
   "cell_type": "code",
   "execution_count": 35,
   "id": "293e08fe-f431-49eb-979e-5da09160c14b",
   "metadata": {},
   "outputs": [
    {
     "name": "stdout",
     "output_type": "stream",
     "text": [
      "(499999, 9)\n",
      "(499999,)\n"
     ]
    }
   ],
   "source": [
    "#dropping target variable from the dataset, and creating new variable from the dataset\n",
    "\n",
    "x = df.drop(['isFraud'], axis=1)\n",
    "print(x.shape)\n",
    "\n",
    "y = df['isFraud']\n",
    "print(y.shape)"
   ]
  },
  {
   "cell_type": "markdown",
   "id": "482dafe0-66dd-44a9-a914-6d7ef043fba9",
   "metadata": {},
   "source": [
    "### Preprocessing and Model Building"
   ]
  },
  {
   "cell_type": "code",
   "execution_count": 37,
   "id": "03c5d9aa-6397-4278-8be4-6cfd82c2d8ae",
   "metadata": {},
   "outputs": [],
   "source": [
    "from sklearn.compose import ColumnTransformer\n",
    "from sklearn.model_selection import train_test_split\n",
    "from sklearn.preprocessing import MinMaxScaler, OneHotEncoder\n",
    "\n",
    "categorical_features = ['type']\n",
    "numerical_features = ['amount', 'oldbalanceOrg', 'newbalanceOrig']\n",
    "\n",
    "preprocessor = ColumnTransformer(\n",
    "    transformers=[\n",
    "        ('num', MinMaxScaler(), numerical_features),\n",
    "        ('cat', OneHotEncoder(), categorical_features)\n",
    "    ])\n",
    "\n",
    "x_train, x_test, y_train, y_test = train_test_split(x, y, test_size=0.2, random_state=42)\n",
    "\n",
    "x_train = preprocessor.fit_transform(x_train)\n",
    "x_test = preprocessor.transform(x_test)"
   ]
  },
  {
   "cell_type": "code",
   "execution_count": 38,
   "id": "1b263983-b90e-4cce-a1c7-1502980c32a4",
   "metadata": {},
   "outputs": [
    {
     "name": "stdout",
     "output_type": "stream",
     "text": [
      "Best Parametres: {'criterion': 'entropy', 'max_depth': 10, 'min_samples_split': 2}\n",
      "Best Score: 0.9995999987499843\n"
     ]
    }
   ],
   "source": [
    "from sklearn.tree import DecisionTreeClassifier\n",
    "from sklearn.model_selection import GridSearchCV\n",
    "from sklearn.metrics import classification_report, confusion_matrix, accuracy_score, precision_score, recall_score, f1_score\n",
    "\n",
    "model = DecisionTreeClassifier(criterion='entropy',max_depth='20', min_samples_split='5')\n",
    "\n",
    "param_grid = {\n",
    "    'max_depth': [5, 10, 15, 20, 25],\n",
    "    'min_samples_split': [2, 5, 10],\n",
    "    'criterion' : ['gini', 'entropy']\n",
    "}\n",
    "\n",
    "grid_search = GridSearchCV(estimator=model, param_grid=param_grid, cv=5, n_jobs=-1)\n",
    "grid_search.fit(x_train, y_train)\n",
    "\n",
    "print(\"Best Parametres:\", grid_search.best_params_)\n",
    "print(\"Best Score:\", grid_search.best_score_)\n",
    "\n",
    "y_pred = grid_search.predict(x_test)"
   ]
  },
  {
   "cell_type": "markdown",
   "id": "1f17b417-b3c6-49f8-ab2b-9d19f1fa7479",
   "metadata": {},
   "source": [
    "### Model Evaluation "
   ]
  },
  {
   "cell_type": "code",
   "execution_count": 40,
   "id": "85a487e6-88ec-4389-957c-6ac87e8568e4",
   "metadata": {},
   "outputs": [
    {
     "name": "stdout",
     "output_type": "stream",
     "text": [
      "Confusion Matrix:\n",
      " [[99952     5]\n",
      " [   29    14]]\n",
      "Classification Report:\n",
      "               precision    recall  f1-score   support\n",
      "\n",
      "           0       1.00      1.00      1.00     99957\n",
      "           1       0.74      0.33      0.45        43\n",
      "\n",
      "    accuracy                           1.00    100000\n",
      "   macro avg       0.87      0.66      0.73    100000\n",
      "weighted avg       1.00      1.00      1.00    100000\n",
      "\n",
      "Accuracy Score: 0.99966\n",
      "Precision Score: 0.7368421052631579\n",
      "Recall Score: 0.32558139534883723\n",
      "F1_Score Score: 0.45161290322580644\n"
     ]
    }
   ],
   "source": [
    "print(\"Confusion Matrix:\\n\", confusion_matrix(y_test, y_pred))\n",
    "print(\"Classification Report:\\n\", classification_report(y_test, y_pred))\n",
    "accuracy = accuracy_score(y_test, y_pred)\n",
    "precision = precision_score(y_test, y_pred)\n",
    "recall = recall_score(y_test, y_pred)\n",
    "f1_score = f1_score(y_test, y_pred)\n",
    "print(f\"Accuracy Score: {accuracy}\")\n",
    "print(f\"Precision Score: {precision}\")\n",
    "print(f\"Recall Score: {recall}\")\n",
    "print(f\"F1_Score Score: {f1_score}\")"
   ]
  },
  {
   "cell_type": "code",
   "execution_count": 41,
   "id": "910e2123-f3ed-49b4-8b14-a1bee658334c",
   "metadata": {},
   "outputs": [
    {
     "name": "stdout",
     "output_type": "stream",
     "text": [
      "isFraud\n",
      "0    399809\n",
      "1       190\n",
      "Name: count, dtype: int64\n",
      "isFraud\n",
      "0    99957\n",
      "1       43\n",
      "Name: count, dtype: int64\n"
     ]
    }
   ],
   "source": [
    "# Examine the number of fraudulent vs legitimate transactions\n",
    "\n",
    "print(y_train.value_counts())\n",
    "print(y_test.value_counts())"
   ]
  },
  {
   "cell_type": "markdown",
   "id": "6a2f550b-e9ff-4078-9c77-764248727318",
   "metadata": {},
   "source": [
    "**Observation:** The dataset is highly imbalanced, accuracy is not the best metric. Instead, we focus on precision, recall and F1 score of the minority class, i.e. fraudlent transactions."
   ]
  },
  {
   "cell_type": "markdown",
   "id": "163bf770-811c-48c3-8609-a0b8e31976aa",
   "metadata": {},
   "source": [
    "### Model Comparison\n",
    "**RandomForestClassifier** An ensemble method that aggregates multiple decision trees."
   ]
  },
  {
   "cell_type": "code",
   "execution_count": 44,
   "id": "1a4babf8-3081-440e-8969-96410a926acf",
   "metadata": {},
   "outputs": [
    {
     "name": "stdout",
     "output_type": "stream",
     "text": [
      "Starting grid search...\n",
      "Fitting 5 folds for each of 16 candidates, totalling 80 fits\n",
      "Grid search completed\n",
      "Best Params for RF: {'criterion': 'entropy', 'max_depth': 10, 'min_samples_split': 2, 'n_estimators': 100}\n",
      "Best Score for RF: 0.9996249989999875\n"
     ]
    }
   ],
   "source": [
    "from sklearn.ensemble import RandomForestClassifier\n",
    "from sklearn.model_selection import GridSearchCV\n",
    "\n",
    "rf_model = RandomForestClassifier()\n",
    "\n",
    "param_grid_rf = {\n",
    "    'n_estimators': [50, 100],\n",
    "    'max_depth': [5, 10],\n",
    "    'min_samples_split': [2, 5],\n",
    "    'criterion': ['gini', 'entropy']\n",
    "}\n",
    "\n",
    "# Initialize GridSearchCV with verbose parameter to see continous progress\n",
    "grid_search_rf = GridSearchCV(estimator=rf_model, param_grid=param_grid_rf, cv=5, n_jobs=-1, verbose=3)\n",
    "\n",
    "print(\"Starting grid search...\")\n",
    "grid_search_rf.fit(x_train, y_train)\n",
    "print(\"Grid search completed\")\n",
    "\n",
    "print(\"Best Params for RF:\", grid_search_rf.best_params_)\n",
    "print(\"Best Score for RF:\", grid_search_rf.best_score_)"
   ]
  },
  {
   "cell_type": "markdown",
   "id": "2d9b70b5-0ab6-42d3-9fd7-cc636afc6f94",
   "metadata": {},
   "source": [
    "### Checking for overfitting\n",
    "As the prediction through both decision tree and random forest has  extremely high score **0.9996249**, our model might be predicting biased due to highly imbalanced data. Hence, we check for overfitting to further validate the model and ensure it generalizes well."
   ]
  },
  {
   "cell_type": "code",
   "execution_count": 83,
   "id": "1da2ca36-7bb9-4d10-a1e3-74b1a09bbb68",
   "metadata": {},
   "outputs": [
    {
     "name": "stdout",
     "output_type": "stream",
     "text": [
      "Cross-Validation Scores for Decision Tree: [0.27367 0.99955 0.99966 0.91696 0.99969]\n",
      "Mean CV Accuracy for Decision Tree: 0.8379059993799938\n"
     ]
    }
   ],
   "source": [
    "#applying cross validation on Decision tree\n",
    "\n",
    "from sklearn.tree import DecisionTreeClassifier\n",
    "from sklearn.model_selection import cross_val_score\n",
    "\n",
    "model = DecisionTreeClassifier(max_depth=20)  # Ensure max_depth is an integer\n",
    "cv_scores_tree = cross_val_score(model, x, y, cv=5)\n",
    "print(f\"Cross-Validation Scores for Decision Tree: {cv_scores_tree}\")\n",
    "print(f\"Mean CV Accuracy for Decision Tree: {cv_scores_tree.mean()}\")\n"
   ]
  },
  {
   "cell_type": "code",
   "execution_count": 85,
   "id": "44159ff1-a37c-4f79-b9e7-5cf1072008e5",
   "metadata": {},
   "outputs": [
    {
     "name": "stdout",
     "output_type": "stream",
     "text": [
      "Cross-Validation Scores for Random Forest: [0.27383 0.99964 0.99969 0.99969 0.99975]\n",
      "Mean CV Accuracy for Random Forest: 0.8545199994999949\n"
     ]
    }
   ],
   "source": [
    "# applying cross validation on Random forest\n",
    "\n",
    "from sklearn.model_selection import cross_val_score\n",
    "cv_scores = cross_val_score(rf_model, x, y, cv=5)\n",
    "print(f\"Cross-Validation Scores for Random Forest: {cv_scores}\")\n",
    "print(f\"Mean CV Accuracy for Random Forest: {cv_scores.mean()}\")"
   ]
  },
  {
   "cell_type": "markdown",
   "id": "bd611dda-b48b-40a3-b188-872fda99a703",
   "metadata": {},
   "source": [
    "**Observation** Random Forest is performing better"
   ]
  },
  {
   "cell_type": "markdown",
   "id": "e6d3a700-2e60-4a20-84ee-7de2821caa52",
   "metadata": {},
   "source": [
    "As we witness a high class imbalance of target variable (Fraudlent and Non Fraudlent), we use gradient boosted algorithms, so that algorithm could focus on minority class (Fraudlent Transactions), by giving it more weightage."
   ]
  },
  {
   "cell_type": "markdown",
   "id": "8c852b7e-407e-4df7-96f8-6f0564f8a1b6",
   "metadata": {},
   "source": [
    "### Using Boosted algorithms for improvement\n",
    "(XGBoost, LightGBM, CatBoost)"
   ]
  },
  {
   "cell_type": "markdown",
   "id": "5dbdeaa5-efb4-452d-ae6c-eb0e4fa5c7d0",
   "metadata": {},
   "source": [
    "### Handling Class Imbalance\n",
    "Using `class weights` Assigning higher weights to the minority class\n",
    "\n",
    "1. In **XGBoost**, you can use the scale_pos_weight parameter.\n",
    "2. In **LightGBM**, the class_weight parameter works similarly.\n",
    "3. In **CatBoost**, it automatically detects class imbalance, but you can also use class_weights."
   ]
  },
  {
   "cell_type": "code",
   "execution_count": 98,
   "id": "e3a12514-7974-45eb-8e7f-803484a2aa86",
   "metadata": {},
   "outputs": [
    {
     "name": "stdout",
     "output_type": "stream",
     "text": [
      "XGBoost CV AUC Scores: [0.97408095 0.97875389 0.97297828 0.99326045 0.98676444]\n",
      "XGBoost Mean CV AUC Score: 0.9811676004686806\n"
     ]
    }
   ],
   "source": [
    "#XGBoost\n",
    "\n",
    "import xgboost as xgb\n",
    "from sklearn.model_selection import cross_val_score\n",
    "\n",
    "# Instantiate the model with some basic parameters\n",
    "xgb_model = xgb.XGBClassifier(scale_pos_weight=len(y_train[y_train == 0]) / len(y_train[y_train == 1]), random_state=42)\n",
    "\n",
    "# Perform cross-validation to check performance\n",
    "cv_scores = cross_val_score(xgb_model, x_train, y_train, cv=5, scoring='roc_auc')\n",
    "\n",
    "print(f\"XGBoost CV AUC Scores: {cv_scores}\")\n",
    "print(f\"XGBoost Mean CV AUC Score: {cv_scores.mean()}\")\n",
    "\n",
    "# Fit the model and make predictions\n",
    "xgb_model.fit(x_train, y_train)\n",
    "y_pred = xgb_model.predict(x_test)\n"
   ]
  },
  {
   "cell_type": "code",
   "execution_count": 100,
   "id": "c6463d8d-692d-489a-bd0f-45b3332c0d33",
   "metadata": {},
   "outputs": [
    {
     "name": "stdout",
     "output_type": "stream",
     "text": [
      "[LightGBM] [Info] Number of positive: 152, number of negative: 319847\n",
      "[LightGBM] [Info] Auto-choosing row-wise multi-threading, the overhead of testing was 0.005093 seconds.\n",
      "You can set `force_row_wise=true` to remove the overhead.\n",
      "And if memory is not enough, you can set `force_col_wise=true`.\n",
      "[LightGBM] [Info] Total Bins 775\n",
      "[LightGBM] [Info] Number of data points in the train set: 319999, number of used features: 8\n",
      "[LightGBM] [Info] [binary:BoostFromScore]: pavg=0.500000 -> initscore=0.000000\n",
      "[LightGBM] [Info] Start training from score 0.000000\n",
      "[LightGBM] [Info] Number of positive: 152, number of negative: 319847\n",
      "[LightGBM] [Info] Auto-choosing row-wise multi-threading, the overhead of testing was 0.001592 seconds.\n",
      "You can set `force_row_wise=true` to remove the overhead.\n",
      "And if memory is not enough, you can set `force_col_wise=true`.\n",
      "[LightGBM] [Info] Total Bins 775\n",
      "[LightGBM] [Info] Number of data points in the train set: 319999, number of used features: 8\n",
      "[LightGBM] [Info] [binary:BoostFromScore]: pavg=0.500000 -> initscore=0.000000\n",
      "[LightGBM] [Info] Start training from score 0.000000\n",
      "[LightGBM] [Info] Number of positive: 152, number of negative: 319847\n",
      "[LightGBM] [Info] Auto-choosing row-wise multi-threading, the overhead of testing was 0.001520 seconds.\n",
      "You can set `force_row_wise=true` to remove the overhead.\n",
      "And if memory is not enough, you can set `force_col_wise=true`.\n",
      "[LightGBM] [Info] Total Bins 775\n",
      "[LightGBM] [Info] Number of data points in the train set: 319999, number of used features: 8\n",
      "[LightGBM] [Info] [binary:BoostFromScore]: pavg=0.500000 -> initscore=0.000000\n",
      "[LightGBM] [Info] Start training from score 0.000000\n",
      "[LightGBM] [Info] Number of positive: 152, number of negative: 319847\n",
      "[LightGBM] [Info] Auto-choosing row-wise multi-threading, the overhead of testing was 0.001598 seconds.\n",
      "You can set `force_row_wise=true` to remove the overhead.\n",
      "And if memory is not enough, you can set `force_col_wise=true`.\n",
      "[LightGBM] [Info] Total Bins 775\n",
      "[LightGBM] [Info] Number of data points in the train set: 319999, number of used features: 8\n",
      "[LightGBM] [Info] [binary:BoostFromScore]: pavg=0.500000 -> initscore=0.000000\n",
      "[LightGBM] [Info] Start training from score 0.000000\n",
      "[LightGBM] [Info] Number of positive: 152, number of negative: 319848\n",
      "[LightGBM] [Info] Auto-choosing row-wise multi-threading, the overhead of testing was 0.003198 seconds.\n",
      "You can set `force_row_wise=true` to remove the overhead.\n",
      "And if memory is not enough, you can set `force_col_wise=true`.\n",
      "[LightGBM] [Info] Total Bins 775\n",
      "[LightGBM] [Info] Number of data points in the train set: 320000, number of used features: 8\n",
      "[LightGBM] [Info] [binary:BoostFromScore]: pavg=0.500000 -> initscore=0.000000\n",
      "[LightGBM] [Info] Start training from score 0.000000\n",
      "LightGBM CV AUC Scores: [0.98176667 0.98200675 0.96801918 0.99460928 0.98999315]\n",
      "LightGBM Mean CV AUC Score: 0.9832790061950231\n",
      "[LightGBM] [Info] Number of positive: 190, number of negative: 399809\n",
      "[LightGBM] [Info] Auto-choosing row-wise multi-threading, the overhead of testing was 0.003164 seconds.\n",
      "You can set `force_row_wise=true` to remove the overhead.\n",
      "And if memory is not enough, you can set `force_col_wise=true`.\n",
      "[LightGBM] [Info] Total Bins 775\n",
      "[LightGBM] [Info] Number of data points in the train set: 399999, number of used features: 8\n",
      "[LightGBM] [Info] [binary:BoostFromScore]: pavg=0.500000 -> initscore=0.000000\n",
      "[LightGBM] [Info] Start training from score 0.000000\n"
     ]
    }
   ],
   "source": [
    "# LightGBM\n",
    "\n",
    "import lightgbm as lgb\n",
    "\n",
    "# Instantiate the model with class_weight\n",
    "lgb_model = lgb.LGBMClassifier(class_weight='balanced', random_state=42)\n",
    "\n",
    "# Perform cross-validation\n",
    "cv_scores = cross_val_score(lgb_model, x_train, y_train, cv=5, scoring='roc_auc')\n",
    "\n",
    "print(f\"LightGBM CV AUC Scores: {cv_scores}\")\n",
    "print(f\"LightGBM Mean CV AUC Score: {cv_scores.mean()}\")\n",
    "\n",
    "# Fit the model and make predictions\n",
    "lgb_model.fit(x_train, y_train)\n",
    "y_pred = lgb_model.predict(x_test)\n"
   ]
  },
  {
   "cell_type": "markdown",
   "id": "a61d2f05-a369-4add-8eec-51d12f3b6cea",
   "metadata": {},
   "source": [
    "**Observation:** \n",
    "1. Number of positive: 152, number of negative: 319847\n",
    "2. LightGBM automatically chooses row-wise multi-threading to optimize training.\n",
    "3. Number of data points in the train set: 319999, number of used features: 8\n",
    "4. LightGBM CV AUC Scores: [0.98176667   0.98200675   0.96801918   0.99460928   0.98999315]. AUC scores closer to 1.0 indicate a good ability to distinguish between classes. 0.96801 may happened due to class imbalance or noise in the dataset.\r",
    "5. \n",
    "LightGBM Mean CV AUC Score: 0.983279006195023, which is an excellent result. It shows that LightGBM is performing very well overall, with minimal variance between folds.1"
   ]
  },
  {
   "cell_type": "code",
   "execution_count": 108,
   "id": "047d92c6-b311-4173-91d0-4529cb4fca7f",
   "metadata": {},
   "outputs": [
    {
     "name": "stdout",
     "output_type": "stream",
     "text": [
      "CatBoost CV AUC Scores: [0.98304326 0.98009104 0.97024968 0.99241054 0.98818092]\n",
      "CatBoost Mean CV AUC Score: 0.9827950875925803\n"
     ]
    }
   ],
   "source": [
    "# CatBoost\n",
    "\n",
    "from catboost import CatBoostClassifier\n",
    "\n",
    "# Instantiate the model\n",
    "cat_model = CatBoostClassifier(class_weights=[1, len(y_train[y_train == 0]) / len(y_train[y_train == 1])], random_state=42, verbose=0)\n",
    "\n",
    "# Perform cross-validation\n",
    "cv_scores = cross_val_score(cat_model, x_train, y_train, cv=5, scoring='roc_auc')\n",
    "\n",
    "print(f\"CatBoost CV AUC Scores: {cv_scores}\")\n",
    "print(f\"CatBoost Mean CV AUC Score: {cv_scores.mean()}\")\n",
    "\n",
    "# Fit the model and make predictions\n",
    "cat_model.fit(x_train, y_train)\n",
    "y_pred = cat_model.predict(x_test)\n"
   ]
  },
  {
   "cell_type": "markdown",
   "id": "13f55cd9-cf9d-42e2-ab87-2eacfb21da4d",
   "metadata": {},
   "source": [
    "**Observation:** LightGBM algorithm gives highest Cross Validation AUC Score of 0.98327."
   ]
  },
  {
   "cell_type": "markdown",
   "id": "77b68bdb-4f48-4d93-90ce-58bfa6f0e2f0",
   "metadata": {},
   "source": [
    "### Evaluate model performance on Minority Class\n",
    "We evaluate the model performance on the test set using metrics suitable for imbalanced data on most promising algorithm i.e. xgboost here, such as:\n",
    "\n",
    "1. Precision, Recall, F1-score\n",
    "2. AUC-ROC Curve\n",
    "3. Confusion Matrix"
   ]
  },
  {
   "cell_type": "code",
   "execution_count": 127,
   "id": "fcb5d506-5123-42ac-8880-1dbce46c5077",
   "metadata": {},
   "outputs": [
    {
     "name": "stdout",
     "output_type": "stream",
     "text": [
      "              precision    recall  f1-score   support\n",
      "\n",
      "           0       1.00      0.99      0.99     99957\n",
      "           1       0.03      0.88      0.05        43\n",
      "\n",
      "    accuracy                           0.99    100000\n",
      "   macro avg       0.51      0.94      0.52    100000\n",
      "weighted avg       1.00      0.99      0.99    100000\n",
      "\n",
      "[[98629  1328]\n",
      " [    5    38]]\n"
     ]
    }
   ],
   "source": [
    "from sklearn.metrics import classification_report, confusion_matrix\n",
    "\n",
    "y_pred = lgb_model.predict(x_test)\n",
    "\n",
    "# Print classification report for precision, recall, f1-score\n",
    "print(classification_report(y_test, y_pred))\n",
    "\n",
    "# Print confusion matrix\n",
    "print(confusion_matrix(y_test, y_pred))\n"
   ]
  },
  {
   "cell_type": "markdown",
   "id": "d9ee0696-890f-4779-a93f-b7294b931fde",
   "metadata": {},
   "source": [
    "1. True Positives (TP): Fraudulent transactions correctly identified.\n",
    "2. False Negatives (FN): Fraudulent transactions missed by the model.\n",
    "3. False Positives (FP): Non-fraudulent transactions incorrectly flagged as fraud.\n",
    "4. True Negatives (TN): Non-fraudulent transactions correctly classified.\n",
    "\n",
    "[[TP, FN],[FP, TN]]"
   ]
  },
  {
   "cell_type": "markdown",
   "id": "3166f8cb-507a-4e5e-9a59-2fa343d72f63",
   "metadata": {},
   "source": [
    "**Observation** FN is way higher than FP, hence we focus on Recall."
   ]
  },
  {
   "cell_type": "code",
   "execution_count": 132,
   "id": "64f4f738-49cb-4090-b88a-bd336126a81c",
   "metadata": {},
   "outputs": [
    {
     "data": {
      "image/png": "[encoded data removed]",
      "text/plain": [
       "<Figure size 640x480 with 1 Axes>"
      ]
     },
     "metadata": {},
     "output_type": "display_data"
    }
   ],
   "source": [
    "from sklearn.metrics import precision_recall_curve\n",
    "\n",
    "# Get predicted probabilities\n",
    "y_prob = lgb_model.predict_proba(x_test)[:, 1]\n",
    "\n",
    "# Calculate precision-recall curve\n",
    "precision, recall, thresholds = precision_recall_curve(y_test, y_prob)\n",
    "\n",
    "# Plot Precision-Recall curve\n",
    "import matplotlib.pyplot as plt\n",
    "plt.plot(recall, precision)\n",
    "plt.xlabel('Recall')\n",
    "plt.ylabel('Precision')\n",
    "plt.title('Precision-Recall Curve')\n",
    "plt.show()"
   ]
  },
  {
   "cell_type": "markdown",
   "id": "d2d2ab94-243e-4a96-ac95-d04e3e3f637e",
   "metadata": {},
   "source": [
    "### Baseline Model: Predicting No Fraud (Majority Class Model)\n",
    "This baseline assumes that the model always predicts the majority class (non-fraudulent transactions) and never detects fraud. For highly imbalanced datasets, this is a simple but often informative comparison. In our case, where fraud is rare, the model would predict \"non-fraud\" (the negative class) for all transactions."
   ]
  },
  {
   "cell_type": "code",
   "execution_count": 136,
   "id": "979d36ee-0609-4b3d-91ac-704dde699fb9",
   "metadata": {},
   "outputs": [
    {
     "name": "stdout",
     "output_type": "stream",
     "text": [
      "Majority Class Model (Predicts No Fraud):\n",
      "Accuracy: 0.99957\n",
      "AUC: 0.5\n",
      "              precision    recall  f1-score   support\n",
      "\n",
      "           0       1.00      1.00      1.00     99957\n",
      "           1       0.00      0.00      0.00        43\n",
      "\n",
      "    accuracy                           1.00    100000\n",
      "   macro avg       0.50      0.50      0.50    100000\n",
      "weighted avg       1.00      1.00      1.00    100000\n",
      "\n"
     ]
    }
   ],
   "source": [
    "from sklearn.metrics import accuracy_score, roc_auc_score, classification_report\n",
    "\n",
    "# Predict all as non-fraud (the majority class, 0 in most cases)\n",
    "y_pred_majority = [0] * len(y_test)\n",
    "\n",
    "# Evaluate the accuracy and AUC of the majority class model\n",
    "majority_accuracy = accuracy_score(y_test, y_pred_majority)\n",
    "majority_auc = roc_auc_score(y_test, y_pred_majority)\n",
    "\n",
    "# Print out classification report (Precision, Recall, F1-Score)\n",
    "print(\"Majority Class Model (Predicts No Fraud):\")\n",
    "print(f\"Accuracy: {majority_accuracy}\")\n",
    "print(f\"AUC: {majority_auc}\")\n",
    "print(classification_report(y_test, y_pred_majority))"
   ]
  },
  {
   "cell_type": "markdown",
   "id": "a2662703-b158-4e7a-bcb2-6cff18f8166b",
   "metadata": {},
   "source": [
    "### Baseline Model: Random Guessing Model\n",
    "This baseline randomly assigns each transaction as either fraudulent or non-fraudulent. This will give a sense of how much better our actual model performs compared to random guessing."
   ]
  },
  {
   "cell_type": "code",
   "execution_count": 140,
   "id": "4740f595-be71-44c2-bec2-43c5c383300f",
   "metadata": {},
   "outputs": [
    {
     "name": "stdout",
     "output_type": "stream",
     "text": [
      "Random Guessing Model:\n",
      "Accuracy: 0.49942\n",
      "AUC: 0.5287671373109042\n",
      "              precision    recall  f1-score   support\n",
      "\n",
      "           0       1.00      0.50      0.67     99957\n",
      "           1       0.00      0.56      0.00        43\n",
      "\n",
      "    accuracy                           0.50    100000\n",
      "   macro avg       0.50      0.53      0.33    100000\n",
      "weighted avg       1.00      0.50      0.67    100000\n",
      "\n"
     ]
    }
   ],
   "source": [
    "import numpy as np\n",
    "\n",
    "# Predict randomly (0 for non-fraud, 1 for fraud)\n",
    "np.random.seed(42)  # For reproducibility\n",
    "y_pred_random = np.random.randint(2, size=len(y_test))\n",
    "\n",
    "# Evaluate the random guessing model\n",
    "random_accuracy = accuracy_score(y_test, y_pred_random)\n",
    "random_auc = roc_auc_score(y_test, y_pred_random)\n",
    "\n",
    "# Print out classification report (Precision, Recall, F1-Score)\n",
    "print(\"Random Guessing Model:\")\n",
    "print(f\"Accuracy: {random_accuracy}\")\n",
    "print(f\"AUC: {random_auc}\")\n",
    "print(classification_report(y_test, y_pred_random))\n"
   ]
  },
  {
   "cell_type": "markdown",
   "id": "a5436ec0-ea32-4be2-a41d-0a22c950fce7",
   "metadata": {},
   "source": [
    "### Compare Baseline with Your Model\n",
    "Now that we have the baseline models (majority class and random guessing), we directly compare their performance against our best model LightGBM."
   ]
  },
  {
   "cell_type": "code",
   "execution_count": 142,
   "id": "9ecda3a2-d470-4dd3-967f-893be4ff0be5",
   "metadata": {},
   "outputs": [
    {
     "name": "stdout",
     "output_type": "stream",
     "text": [
      "LightGBM Model:\n",
      "Accuracy: 0.98667\n",
      "AUC: 0.9352176086880148\n",
      "              precision    recall  f1-score   support\n",
      "\n",
      "           0       1.00      0.99      0.99     99957\n",
      "           1       0.03      0.88      0.05        43\n",
      "\n",
      "    accuracy                           0.99    100000\n",
      "   macro avg       0.51      0.94      0.52    100000\n",
      "weighted avg       1.00      0.99      0.99    100000\n",
      "\n",
      "\n",
      "Majority Class Model AUC: 0.5\n",
      "Random Guessing Model AUC: 0.5287671373109042\n",
      "LightGBM Model AUC: 0.9352176086880148\n"
     ]
    }
   ],
   "source": [
    "# LightGBM predictions\n",
    "y_pred_lgbm = lgb_model.predict(x_test)\n",
    "\n",
    "# Evaluate LightGBM model\n",
    "lgbm_accuracy = accuracy_score(y_test, y_pred_lgbm)\n",
    "lgbm_auc = roc_auc_score(y_test, y_pred_lgbm)\n",
    "\n",
    "# Compare the results\n",
    "print(\"LightGBM Model:\")\n",
    "print(f\"Accuracy: {lgbm_accuracy}\")\n",
    "print(f\"AUC: {lgbm_auc}\")\n",
    "print(classification_report(y_test, y_pred_lgbm))\n",
    "\n",
    "# Now compare with the baselines\n",
    "print(f\"\\nMajority Class Model AUC: {majority_auc}\")\n",
    "print(f\"Random Guessing Model AUC: {random_auc}\")\n",
    "print(f\"LightGBM Model AUC: {lgbm_auc}\")\n"
   ]
  },
  {
   "cell_type": "markdown",
   "id": "ac6df65b-9b2f-4e33-9ce6-34736fd53273",
   "metadata": {},
   "source": [
    "**Observation:** LightGBM model AUC much higher than Random Guessing Model and Majority Class Model, it confirms that our model is effective in distinguishing between fraudulent and non-fraudulent transactions. Also precision and recall improved."
   ]
  },
  {
   "cell_type": "code",
   "execution_count": null,
   "id": "7c0db238-c2fa-4d91-a22d-58579e87c74c",
   "metadata": {},
   "outputs": [],
   "source": []
  }
 ],
 "metadata": {
  "kernelspec": {
   "display_name": "Python 3 (ipykernel)",
   "language": "python",
   "name": "python3"
  },
  "language_info": {
   "codemirror_mode": {
    "name": "ipython",
    "version": 3
   },
   "file_extension": ".py",
   "mimetype": "text/x-python",
   "name": "python",
   "nbconvert_exporter": "python",
   "pygments_lexer": "ipython3",
   "version": "3.12.4"
  }
 },
 "nbformat": 4,
 "nbformat_minor": 5
}
